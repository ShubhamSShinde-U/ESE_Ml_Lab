{
 "cells": [
  {
   "cell_type": "code",
   "execution_count": 6,
   "id": "7f75853c",
   "metadata": {},
   "outputs": [],
   "source": [
    "import pandas_datareader as pdr\n",
    "import numpy as np\n",
    "import matplotlib.pyplot as plt\n",
    "import pandas as pd\n",
    "from sklearn import preprocessing\n",
    "from sklearn import metrics\n",
    "from sklearn.model_selection import train_test_split\n",
    "from sklearn.linear_model import LinearRegression"
   ]
  },
  {
   "cell_type": "code",
   "execution_count": 7,
   "id": "d564c6fa",
   "metadata": {},
   "outputs": [
    {
     "name": "stdout",
     "output_type": "stream",
     "text": [
      "[*********************100%***********************]  1 of 1 completed\n"
     ]
    }
   ],
   "source": [
    "import yfinance as yf\n",
    "df = yf.download(\"AMZN\", start=\"2019-01-01\", end=\"2020-01-01\",group_by=\"ticker\") "
   ]
  },
  {
   "cell_type": "code",
   "execution_count": 8,
   "id": "b386135d",
   "metadata": {},
   "outputs": [
    {
     "data": {
      "text/html": [
       "<div>\n",
       "<style scoped>\n",
       "    .dataframe tbody tr th:only-of-type {\n",
       "        vertical-align: middle;\n",
       "    }\n",
       "\n",
       "    .dataframe tbody tr th {\n",
       "        vertical-align: top;\n",
       "    }\n",
       "\n",
       "    .dataframe thead th {\n",
       "        text-align: right;\n",
       "    }\n",
       "</style>\n",
       "<table border=\"1\" class=\"dataframe\">\n",
       "  <thead>\n",
       "    <tr style=\"text-align: right;\">\n",
       "      <th></th>\n",
       "      <th>Open</th>\n",
       "      <th>High</th>\n",
       "      <th>Low</th>\n",
       "      <th>Close</th>\n",
       "      <th>Adj Close</th>\n",
       "      <th>Volume</th>\n",
       "    </tr>\n",
       "    <tr>\n",
       "      <th>Date</th>\n",
       "      <th></th>\n",
       "      <th></th>\n",
       "      <th></th>\n",
       "      <th></th>\n",
       "      <th></th>\n",
       "      <th></th>\n",
       "    </tr>\n",
       "  </thead>\n",
       "  <tbody>\n",
       "    <tr>\n",
       "      <th>2018-12-31</th>\n",
       "      <td>75.540001</td>\n",
       "      <td>76.038002</td>\n",
       "      <td>74.349998</td>\n",
       "      <td>75.098503</td>\n",
       "      <td>75.098503</td>\n",
       "      <td>139090000</td>\n",
       "    </tr>\n",
       "    <tr>\n",
       "      <th>2019-01-02</th>\n",
       "      <td>73.260002</td>\n",
       "      <td>77.667999</td>\n",
       "      <td>73.046501</td>\n",
       "      <td>76.956497</td>\n",
       "      <td>76.956497</td>\n",
       "      <td>159662000</td>\n",
       "    </tr>\n",
       "    <tr>\n",
       "      <th>2019-01-03</th>\n",
       "      <td>76.000504</td>\n",
       "      <td>76.900002</td>\n",
       "      <td>74.855499</td>\n",
       "      <td>75.014000</td>\n",
       "      <td>75.014000</td>\n",
       "      <td>139512000</td>\n",
       "    </tr>\n",
       "    <tr>\n",
       "      <th>2019-01-04</th>\n",
       "      <td>76.500000</td>\n",
       "      <td>79.699997</td>\n",
       "      <td>75.915497</td>\n",
       "      <td>78.769501</td>\n",
       "      <td>78.769501</td>\n",
       "      <td>183652000</td>\n",
       "    </tr>\n",
       "    <tr>\n",
       "      <th>2019-01-07</th>\n",
       "      <td>80.115501</td>\n",
       "      <td>81.727997</td>\n",
       "      <td>79.459503</td>\n",
       "      <td>81.475502</td>\n",
       "      <td>81.475502</td>\n",
       "      <td>159864000</td>\n",
       "    </tr>\n",
       "  </tbody>\n",
       "</table>\n",
       "</div>"
      ],
      "text/plain": [
       "                 Open       High        Low      Close  Adj Close     Volume\n",
       "Date                                                                        \n",
       "2018-12-31  75.540001  76.038002  74.349998  75.098503  75.098503  139090000\n",
       "2019-01-02  73.260002  77.667999  73.046501  76.956497  76.956497  159662000\n",
       "2019-01-03  76.000504  76.900002  74.855499  75.014000  75.014000  139512000\n",
       "2019-01-04  76.500000  79.699997  75.915497  78.769501  78.769501  183652000\n",
       "2019-01-07  80.115501  81.727997  79.459503  81.475502  81.475502  159864000"
      ]
     },
     "execution_count": 8,
     "metadata": {},
     "output_type": "execute_result"
    }
   ],
   "source": [
    "df.head()"
   ]
  },
  {
   "cell_type": "code",
   "execution_count": 9,
   "id": "86d4788e",
   "metadata": {},
   "outputs": [
    {
     "data": {
      "text/html": [
       "<div>\n",
       "<style scoped>\n",
       "    .dataframe tbody tr th:only-of-type {\n",
       "        vertical-align: middle;\n",
       "    }\n",
       "\n",
       "    .dataframe tbody tr th {\n",
       "        vertical-align: top;\n",
       "    }\n",
       "\n",
       "    .dataframe thead th {\n",
       "        text-align: right;\n",
       "    }\n",
       "</style>\n",
       "<table border=\"1\" class=\"dataframe\">\n",
       "  <thead>\n",
       "    <tr style=\"text-align: right;\">\n",
       "      <th></th>\n",
       "      <th>Open</th>\n",
       "      <th>High</th>\n",
       "      <th>Low</th>\n",
       "      <th>Close</th>\n",
       "      <th>Adj Close</th>\n",
       "      <th>Volume</th>\n",
       "    </tr>\n",
       "    <tr>\n",
       "      <th>Date</th>\n",
       "      <th></th>\n",
       "      <th></th>\n",
       "      <th></th>\n",
       "      <th></th>\n",
       "      <th></th>\n",
       "      <th></th>\n",
       "    </tr>\n",
       "  </thead>\n",
       "  <tbody>\n",
       "    <tr>\n",
       "      <th>2019-12-24</th>\n",
       "      <td>89.690498</td>\n",
       "      <td>89.778503</td>\n",
       "      <td>89.378998</td>\n",
       "      <td>89.460503</td>\n",
       "      <td>89.460503</td>\n",
       "      <td>17626000</td>\n",
       "    </tr>\n",
       "    <tr>\n",
       "      <th>2019-12-26</th>\n",
       "      <td>90.050499</td>\n",
       "      <td>93.523003</td>\n",
       "      <td>89.974998</td>\n",
       "      <td>93.438499</td>\n",
       "      <td>93.438499</td>\n",
       "      <td>120108000</td>\n",
       "    </tr>\n",
       "    <tr>\n",
       "      <th>2019-12-27</th>\n",
       "      <td>94.146004</td>\n",
       "      <td>95.070000</td>\n",
       "      <td>93.300499</td>\n",
       "      <td>93.489998</td>\n",
       "      <td>93.489998</td>\n",
       "      <td>123732000</td>\n",
       "    </tr>\n",
       "    <tr>\n",
       "      <th>2019-12-30</th>\n",
       "      <td>93.699997</td>\n",
       "      <td>94.199997</td>\n",
       "      <td>92.030998</td>\n",
       "      <td>92.344498</td>\n",
       "      <td>92.344498</td>\n",
       "      <td>73494000</td>\n",
       "    </tr>\n",
       "    <tr>\n",
       "      <th>2019-12-31</th>\n",
       "      <td>92.099998</td>\n",
       "      <td>92.663002</td>\n",
       "      <td>91.611504</td>\n",
       "      <td>92.391998</td>\n",
       "      <td>92.391998</td>\n",
       "      <td>50130000</td>\n",
       "    </tr>\n",
       "  </tbody>\n",
       "</table>\n",
       "</div>"
      ],
      "text/plain": [
       "                 Open       High        Low      Close  Adj Close     Volume\n",
       "Date                                                                        \n",
       "2019-12-24  89.690498  89.778503  89.378998  89.460503  89.460503   17626000\n",
       "2019-12-26  90.050499  93.523003  89.974998  93.438499  93.438499  120108000\n",
       "2019-12-27  94.146004  95.070000  93.300499  93.489998  93.489998  123732000\n",
       "2019-12-30  93.699997  94.199997  92.030998  92.344498  92.344498   73494000\n",
       "2019-12-31  92.099998  92.663002  91.611504  92.391998  92.391998   50130000"
      ]
     },
     "execution_count": 9,
     "metadata": {},
     "output_type": "execute_result"
    }
   ],
   "source": [
    "df.tail()"
   ]
  },
  {
   "cell_type": "code",
   "execution_count": 10,
   "id": "dc5883e3",
   "metadata": {},
   "outputs": [
    {
     "name": "stdout",
     "output_type": "stream",
     "text": [
      "<class 'pandas.core.frame.DataFrame'>\n",
      "DatetimeIndex: 253 entries, 2018-12-31 to 2019-12-31\n",
      "Data columns (total 6 columns):\n",
      " #   Column     Non-Null Count  Dtype  \n",
      "---  ------     --------------  -----  \n",
      " 0   Open       253 non-null    float64\n",
      " 1   High       253 non-null    float64\n",
      " 2   Low        253 non-null    float64\n",
      " 3   Close      253 non-null    float64\n",
      " 4   Adj Close  253 non-null    float64\n",
      " 5   Volume     253 non-null    int64  \n",
      "dtypes: float64(5), int64(1)\n",
      "memory usage: 13.8 KB\n"
     ]
    }
   ],
   "source": [
    "df.info()"
   ]
  },
  {
   "cell_type": "code",
   "execution_count": 11,
   "id": "54d3ff2b",
   "metadata": {},
   "outputs": [
    {
     "data": {
      "text/html": [
       "<div>\n",
       "<style scoped>\n",
       "    .dataframe tbody tr th:only-of-type {\n",
       "        vertical-align: middle;\n",
       "    }\n",
       "\n",
       "    .dataframe tbody tr th {\n",
       "        vertical-align: top;\n",
       "    }\n",
       "\n",
       "    .dataframe thead th {\n",
       "        text-align: right;\n",
       "    }\n",
       "</style>\n",
       "<table border=\"1\" class=\"dataframe\">\n",
       "  <thead>\n",
       "    <tr style=\"text-align: right;\">\n",
       "      <th></th>\n",
       "      <th>Open</th>\n",
       "      <th>High</th>\n",
       "      <th>Low</th>\n",
       "      <th>Close</th>\n",
       "      <th>Adj Close</th>\n",
       "      <th>Volume</th>\n",
       "    </tr>\n",
       "  </thead>\n",
       "  <tbody>\n",
       "    <tr>\n",
       "      <th>count</th>\n",
       "      <td>253.000000</td>\n",
       "      <td>253.000000</td>\n",
       "      <td>253.000000</td>\n",
       "      <td>253.000000</td>\n",
       "      <td>253.000000</td>\n",
       "      <td>2.530000e+02</td>\n",
       "    </tr>\n",
       "    <tr>\n",
       "      <th>mean</th>\n",
       "      <td>89.382379</td>\n",
       "      <td>90.073806</td>\n",
       "      <td>88.599320</td>\n",
       "      <td>89.402698</td>\n",
       "      <td>89.402698</td>\n",
       "      <td>7.759720e+07</td>\n",
       "    </tr>\n",
       "    <tr>\n",
       "      <th>std</th>\n",
       "      <td>5.210206</td>\n",
       "      <td>5.094606</td>\n",
       "      <td>5.220710</td>\n",
       "      <td>5.135608</td>\n",
       "      <td>5.135608</td>\n",
       "      <td>3.245018e+07</td>\n",
       "    </tr>\n",
       "    <tr>\n",
       "      <th>min</th>\n",
       "      <td>73.260002</td>\n",
       "      <td>76.038002</td>\n",
       "      <td>73.046501</td>\n",
       "      <td>75.014000</td>\n",
       "      <td>75.014000</td>\n",
       "      <td>1.762600e+07</td>\n",
       "    </tr>\n",
       "    <tr>\n",
       "      <th>25%</th>\n",
       "      <td>86.581497</td>\n",
       "      <td>87.343498</td>\n",
       "      <td>85.762497</td>\n",
       "      <td>86.782501</td>\n",
       "      <td>86.782501</td>\n",
       "      <td>5.562400e+07</td>\n",
       "    </tr>\n",
       "    <tr>\n",
       "      <th>50%</th>\n",
       "      <td>89.413002</td>\n",
       "      <td>89.910004</td>\n",
       "      <td>88.667999</td>\n",
       "      <td>89.320000</td>\n",
       "      <td>89.320000</td>\n",
       "      <td>6.966800e+07</td>\n",
       "    </tr>\n",
       "    <tr>\n",
       "      <th>75%</th>\n",
       "      <td>92.419998</td>\n",
       "      <td>93.389000</td>\n",
       "      <td>91.777000</td>\n",
       "      <td>92.765999</td>\n",
       "      <td>92.765999</td>\n",
       "      <td>9.280800e+07</td>\n",
       "    </tr>\n",
       "    <tr>\n",
       "      <th>max</th>\n",
       "      <td>101.280998</td>\n",
       "      <td>101.790001</td>\n",
       "      <td>100.193497</td>\n",
       "      <td>101.049500</td>\n",
       "      <td>101.049500</td>\n",
       "      <td>2.301240e+08</td>\n",
       "    </tr>\n",
       "  </tbody>\n",
       "</table>\n",
       "</div>"
      ],
      "text/plain": [
       "             Open        High         Low       Close   Adj Close  \\\n",
       "count  253.000000  253.000000  253.000000  253.000000  253.000000   \n",
       "mean    89.382379   90.073806   88.599320   89.402698   89.402698   \n",
       "std      5.210206    5.094606    5.220710    5.135608    5.135608   \n",
       "min     73.260002   76.038002   73.046501   75.014000   75.014000   \n",
       "25%     86.581497   87.343498   85.762497   86.782501   86.782501   \n",
       "50%     89.413002   89.910004   88.667999   89.320000   89.320000   \n",
       "75%     92.419998   93.389000   91.777000   92.765999   92.765999   \n",
       "max    101.280998  101.790001  100.193497  101.049500  101.049500   \n",
       "\n",
       "             Volume  \n",
       "count  2.530000e+02  \n",
       "mean   7.759720e+07  \n",
       "std    3.245018e+07  \n",
       "min    1.762600e+07  \n",
       "25%    5.562400e+07  \n",
       "50%    6.966800e+07  \n",
       "75%    9.280800e+07  \n",
       "max    2.301240e+08  "
      ]
     },
     "execution_count": 11,
     "metadata": {},
     "output_type": "execute_result"
    }
   ],
   "source": [
    "df.describe()"
   ]
  },
  {
   "cell_type": "code",
   "execution_count": 13,
   "id": "5074826e",
   "metadata": {},
   "outputs": [
    {
     "name": "stdout",
     "output_type": "stream",
     "text": [
      "[[7.60380020e+01 7.43499985e+01 7.55400009e+01 1.39090000e+08]\n",
      " [7.76679993e+01 7.30465012e+01 7.32600021e+01 1.59662000e+08]\n",
      " [7.69000015e+01 7.48554993e+01 7.60005035e+01 1.39512000e+08]\n",
      " ...\n",
      " [9.50699997e+01 9.33004990e+01 9.41460037e+01 1.23732000e+08]\n",
      " [9.41999969e+01 9.20309982e+01 9.36999969e+01 7.34940000e+07]\n",
      " [9.26630020e+01 9.16115036e+01 9.20999985e+01 5.01300000e+07]]\n"
     ]
    }
   ],
   "source": [
    "X = df[['High','Low','Open','Volume']].values\n",
    "y = df['Close'].values\n",
    "print(X)"
   ]
  },
  {
   "cell_type": "code",
   "execution_count": 14,
   "id": "4b83a626",
   "metadata": {},
   "outputs": [
    {
     "name": "stdout",
     "output_type": "stream",
     "text": [
      "[ 75.09850311  76.95649719  75.01399994  78.76950073  81.47550201\n",
      "  82.82900238  82.97100067  82.81099701  82.02799988  80.86049652\n",
      "  83.72799683  84.18900299  84.66100311  84.80999756  81.60849762\n",
      "  82.00099945  82.74649811  83.52850342  81.89450073  79.69400024\n",
      "  83.52149963  85.93650055  81.31150055  81.66549683  82.94049835\n",
      "  82.01300049  80.71849823  79.41100311  79.55000305  81.90049744\n",
      "  82.          81.13249969  80.39749908  81.3789978   81.10500336\n",
      "  80.97200012  81.57800293  81.65000153  81.81999969  82.05449677\n",
      "  81.99150085  83.58650208  84.8085022   84.62149811  83.44750214\n",
      "  81.29750061  81.04000092  83.53099823  83.65499878  84.54049683\n",
      "  84.31099701  85.61799622  87.10749817  88.09249878  89.8635025\n",
      "  90.96299744  88.2385025   88.71299744  89.18800354  88.28500366\n",
      "  88.67099762  89.03749847  90.70950317  90.6989975   91.03500366\n",
      "  90.94300079  91.86399841  92.49299622  91.79199982  92.36650085\n",
      "  92.20349884  92.15299988  92.24349976  93.15200043  93.24099731\n",
      "  93.08450317  94.3655014   96.18849945  95.08750153  95.11250305\n",
      "  97.53150177  96.92150116  96.3259964   95.5759964   95.04100037\n",
      "  98.1230011   97.52749634  96.05000305  95.8884964   94.99349976\n",
      "  94.49900055  91.13400269  92.0059967   93.55750275  95.37850189\n",
      "  93.44999695  92.94850159  92.87599945  92.98400116  90.77400208\n",
      "  91.16400146  91.82150269  90.95950317  90.81600189  88.75350189\n",
      "  84.6344986   86.47799683  86.92500305  87.71800232  90.20149994\n",
      "  93.03150177  93.18499756  92.76599884  93.51499939  93.48349762\n",
      "  94.30149841  95.0684967   95.4394989   95.90950012  95.56500244\n",
      "  95.69499969  93.91349792  94.89150238  95.21399689  94.6815033\n",
      "  96.10949707  96.71549988  96.94999695  97.14550018  97.61599731\n",
      "  99.41500092 100.87049866 100.05349731 100.55000305 101.04949951\n",
      " 100.49500275  99.60150146  98.89499664  98.22599792  99.28150177\n",
      "  99.72450256 100.04049683  98.69100189  97.15249634  95.62249756\n",
      "  94.92649841  93.33899689  92.76599884  91.16200256  88.25650024\n",
      "  89.39150238  89.66999817  91.64450073  90.3789978   89.2460022\n",
      "  91.21700287  88.14800262  88.80599976  89.62850189  90.80599976\n",
      "  90.06900024  91.17700195  90.23300171  87.48100281  88.4434967\n",
      "  88.09149933  88.21250153  89.31999969  88.8144989   89.49199677\n",
      "  90.03099823  92.03600311  91.67549896  91.56749725  91.02749634\n",
      "  91.14949799  92.17749786  91.96700287  90.39199829  91.12750244\n",
      "  90.8730011   91.07499695  89.70800018  89.26499939  87.08049774\n",
      "  88.41649628  86.99199677  86.27249908  86.79550171  86.78250122\n",
      "  85.66149902  86.22100067  86.98249817  86.63300323  85.27549744\n",
      "  86.09950256  86.01300049  86.59600067  86.82150269  88.3690033\n",
      "  88.87149811  89.37400055  87.87550354  89.28299713  88.28649902\n",
      "  88.10849762  89.03900146  88.0664978   88.85399628  88.13549805\n",
      "  88.99949646  88.83300018  89.5719986   90.23300171  90.08550262\n",
      "  89.78849792  89.41000366  89.29399872  88.58249664  88.90000153\n",
      "  87.65550232  87.73000336  86.97450256  87.62650299  87.63950348\n",
      "  87.27649689  86.73549652  87.28600311  88.69200134  89.84700012\n",
      "  90.92549896  90.04000092  89.08000183  88.4980011   88.03450012\n",
      "  87.02400208  87.58000183  87.47550201  86.96050262  87.43599701\n",
      "  88.01650238  88.04699707  88.46050262  89.53299713  89.20149994\n",
      "  89.61399841  89.32499695  89.65000153  89.46050262  93.43849945\n",
      "  93.48999786  92.34449768  92.39199829]\n"
     ]
    }
   ],
   "source": [
    "print(y)"
   ]
  },
  {
   "cell_type": "code",
   "execution_count": 15,
   "id": "f659015b",
   "metadata": {},
   "outputs": [],
   "source": [
    "# Split data into testing and training sets\n",
    "X_train, X_test, y_train, y_test = train_test_split(X,y, test_size=0.3, random_state=1)"
   ]
  },
  {
   "cell_type": "code",
   "execution_count": 16,
   "id": "082cf072",
   "metadata": {},
   "outputs": [
    {
     "name": "stdout",
     "output_type": "stream",
     "text": [
      "[ 9.65397204e-01  6.23993174e-01 -5.86139263e-01 -2.07860052e-09]\n",
      "[92.06909114 92.23372957 90.60602005 89.39377088 91.48858503 86.8148683\n",
      " 89.44261775 90.98841064 91.42253502 80.89083195 89.3059111  93.78262147\n",
      " 85.6537801  87.06997931 89.10876798 95.49889068 87.68424332 85.26745115\n",
      " 78.54714985 93.22629346 86.93789061 80.94373152 94.50441686 86.2091758\n",
      " 94.91534282 90.93599429 93.09863955 92.43188144 81.52122944 88.9606077\n",
      " 91.72489574 83.82986673 90.52972589 88.92986419 91.23548651 94.25912681\n",
      " 81.49239398 81.08906638 81.09303257 90.01728675 95.34240594 80.12431542\n",
      " 93.28850502 90.81996794 81.43616789 89.17300015 80.39896496 84.66273649\n",
      " 81.50757065 74.93449215 89.62980249 97.53908944 89.31884799 88.56934938\n",
      " 91.25744656 95.86238055 95.39711121 79.80489261 82.34168192 89.36872437\n",
      " 89.58548944 88.01652084 91.84743305 85.57645293 83.33417336 88.00316686\n",
      " 82.35544156 89.76454733 90.60778816 91.88340861 94.49292625 88.87533843\n",
      " 92.002759   95.36871094 93.50751573 87.9795711 ]\n"
     ]
    }
   ],
   "source": [
    "#from sklearn.linear_model import LinearRegression\n",
    "# Create Regression Model \n",
    "Model = LinearRegression()\n",
    "\n",
    "# Train the model\n",
    "Model.fit(X_train, y_train)\n",
    "#Printing Coefficient\n",
    "print(Model.coef_)\n",
    "\n",
    "# Use model to make predictions\n",
    "predicted = Model.predict(X_test) \n",
    "print(predicted)"
   ]
  },
  {
   "cell_type": "code",
   "execution_count": 17,
   "id": "b59aa5a6",
   "metadata": {},
   "outputs": [
    {
     "data": {
      "text/plain": [
       "array([92.49299622, 92.39199829, 90.23300171, 89.53299713, 91.13400269,\n",
       "       86.73549652, 89.18800354, 91.12750244, 91.07499695, 81.47550201,\n",
       "       89.61399841, 93.03150177, 86.47799683, 86.78250122, 88.90000153,\n",
       "       95.08750153, 88.41649628, 85.61799622, 79.41100311, 93.15200043,\n",
       "       87.28600311, 81.10500336, 93.44999695, 86.27249908, 94.89150238,\n",
       "       90.92549896, 93.43849945, 92.17749786, 81.81999969, 89.29399872,\n",
       "       92.03600311, 83.44750214, 90.70950317, 88.99949646, 91.17700195,\n",
       "       93.48999786, 82.05449677, 81.13249969, 81.89450073, 89.70800018,\n",
       "       95.21399689, 79.69400024, 93.55750275, 90.95950317, 81.3789978 ,\n",
       "       89.26499939, 80.97200012, 84.18900299, 81.90049744, 75.09850311,\n",
       "       89.84700012, 98.1230011 , 89.2460022 , 88.3690033 , 91.64450073,\n",
       "       95.56500244, 95.69499969, 79.55000305, 82.74649811, 89.37400055,\n",
       "       89.31999969, 88.46050262, 91.56749725, 85.66149902, 83.53099823,\n",
       "       88.04699707, 81.99150085, 89.49199677, 90.04000092, 92.36650085,\n",
       "       94.99349976, 88.03450012, 91.96700287, 95.4394989 , 93.48349762,\n",
       "       88.28500366])"
      ]
     },
     "execution_count": 17,
     "metadata": {},
     "output_type": "execute_result"
    }
   ],
   "source": [
    "y_test"
   ]
  },
  {
   "cell_type": "code",
   "execution_count": 18,
   "id": "7893e6c4",
   "metadata": {},
   "outputs": [
    {
     "data": {
      "text/html": [
       "<div>\n",
       "<style scoped>\n",
       "    .dataframe tbody tr th:only-of-type {\n",
       "        vertical-align: middle;\n",
       "    }\n",
       "\n",
       "    .dataframe tbody tr th {\n",
       "        vertical-align: top;\n",
       "    }\n",
       "\n",
       "    .dataframe thead th {\n",
       "        text-align: right;\n",
       "    }\n",
       "</style>\n",
       "<table border=\"1\" class=\"dataframe\">\n",
       "  <thead>\n",
       "    <tr style=\"text-align: right;\">\n",
       "      <th></th>\n",
       "      <th>Actual</th>\n",
       "      <th>Predicted</th>\n",
       "    </tr>\n",
       "  </thead>\n",
       "  <tbody>\n",
       "    <tr>\n",
       "      <th>0</th>\n",
       "      <td>92.492996</td>\n",
       "      <td>92.069091</td>\n",
       "    </tr>\n",
       "    <tr>\n",
       "      <th>1</th>\n",
       "      <td>92.391998</td>\n",
       "      <td>92.233730</td>\n",
       "    </tr>\n",
       "    <tr>\n",
       "      <th>2</th>\n",
       "      <td>90.233002</td>\n",
       "      <td>90.606020</td>\n",
       "    </tr>\n",
       "    <tr>\n",
       "      <th>3</th>\n",
       "      <td>89.532997</td>\n",
       "      <td>89.393771</td>\n",
       "    </tr>\n",
       "    <tr>\n",
       "      <th>4</th>\n",
       "      <td>91.134003</td>\n",
       "      <td>91.488585</td>\n",
       "    </tr>\n",
       "    <tr>\n",
       "      <th>5</th>\n",
       "      <td>86.735497</td>\n",
       "      <td>86.814868</td>\n",
       "    </tr>\n",
       "    <tr>\n",
       "      <th>6</th>\n",
       "      <td>89.188004</td>\n",
       "      <td>89.442618</td>\n",
       "    </tr>\n",
       "    <tr>\n",
       "      <th>7</th>\n",
       "      <td>91.127502</td>\n",
       "      <td>90.988411</td>\n",
       "    </tr>\n",
       "    <tr>\n",
       "      <th>8</th>\n",
       "      <td>91.074997</td>\n",
       "      <td>91.422535</td>\n",
       "    </tr>\n",
       "    <tr>\n",
       "      <th>9</th>\n",
       "      <td>81.475502</td>\n",
       "      <td>80.890832</td>\n",
       "    </tr>\n",
       "    <tr>\n",
       "      <th>10</th>\n",
       "      <td>89.613998</td>\n",
       "      <td>89.305911</td>\n",
       "    </tr>\n",
       "    <tr>\n",
       "      <th>11</th>\n",
       "      <td>93.031502</td>\n",
       "      <td>93.782621</td>\n",
       "    </tr>\n",
       "    <tr>\n",
       "      <th>12</th>\n",
       "      <td>86.477997</td>\n",
       "      <td>85.653780</td>\n",
       "    </tr>\n",
       "    <tr>\n",
       "      <th>13</th>\n",
       "      <td>86.782501</td>\n",
       "      <td>87.069979</td>\n",
       "    </tr>\n",
       "    <tr>\n",
       "      <th>14</th>\n",
       "      <td>88.900002</td>\n",
       "      <td>89.108768</td>\n",
       "    </tr>\n",
       "    <tr>\n",
       "      <th>15</th>\n",
       "      <td>95.087502</td>\n",
       "      <td>95.498891</td>\n",
       "    </tr>\n",
       "    <tr>\n",
       "      <th>16</th>\n",
       "      <td>88.416496</td>\n",
       "      <td>87.684243</td>\n",
       "    </tr>\n",
       "    <tr>\n",
       "      <th>17</th>\n",
       "      <td>85.617996</td>\n",
       "      <td>85.267451</td>\n",
       "    </tr>\n",
       "    <tr>\n",
       "      <th>18</th>\n",
       "      <td>79.411003</td>\n",
       "      <td>78.547150</td>\n",
       "    </tr>\n",
       "    <tr>\n",
       "      <th>19</th>\n",
       "      <td>93.152000</td>\n",
       "      <td>93.226293</td>\n",
       "    </tr>\n",
       "  </tbody>\n",
       "</table>\n",
       "</div>"
      ],
      "text/plain": [
       "       Actual  Predicted\n",
       "0   92.492996  92.069091\n",
       "1   92.391998  92.233730\n",
       "2   90.233002  90.606020\n",
       "3   89.532997  89.393771\n",
       "4   91.134003  91.488585\n",
       "5   86.735497  86.814868\n",
       "6   89.188004  89.442618\n",
       "7   91.127502  90.988411\n",
       "8   91.074997  91.422535\n",
       "9   81.475502  80.890832\n",
       "10  89.613998  89.305911\n",
       "11  93.031502  93.782621\n",
       "12  86.477997  85.653780\n",
       "13  86.782501  87.069979\n",
       "14  88.900002  89.108768\n",
       "15  95.087502  95.498891\n",
       "16  88.416496  87.684243\n",
       "17  85.617996  85.267451\n",
       "18  79.411003  78.547150\n",
       "19  93.152000  93.226293"
      ]
     },
     "execution_count": 18,
     "metadata": {},
     "output_type": "execute_result"
    }
   ],
   "source": [
    "data1 = pd.DataFrame({'Actual': y_test.flatten(), 'Predicted' : predicted.flatten()})\n",
    "data1.head(20)"
   ]
  },
  {
   "cell_type": "code",
   "execution_count": 19,
   "id": "f0ed7c24",
   "metadata": {},
   "outputs": [
    {
     "name": "stdout",
     "output_type": "stream",
     "text": [
      "Mean Absolute Error: 0.319244276094296\n",
      "Mean Squared Error: 0.156644339555133\n",
      "Root Mean Squared Error: 0.39578319766651665\n",
      "Co-efficient of determination (R2 Score):  0.9933128609081278\n"
     ]
    }
   ],
   "source": [
    "import math\n",
    "print('Mean Absolute Error:', metrics.mean_absolute_error(y_test,predicted))\n",
    "print('Mean Squared Error:', metrics.mean_squared_error(y_test,predicted))\n",
    "print('Root Mean Squared Error:', math.sqrt(metrics.mean_squared_error(y_test,predicted)))\n",
    "print('Co-efficient of determination (R2 Score): ', metrics.r2_score(y_test, predicted))"
   ]
  },
  {
   "cell_type": "code",
   "execution_count": 20,
   "id": "de323a22",
   "metadata": {},
   "outputs": [
    {
     "data": {
      "text/plain": [
       "<AxesSubplot:>"
      ]
     },
     "execution_count": 20,
     "metadata": {},
     "output_type": "execute_result"
    },
    {
     "data": {
      "image/png": "[encoded data removed]",
      "text/plain": [
       "<Figure size 432x288 with 1 Axes>"
      ]
     },
     "metadata": {
      "needs_background": "light"
     },
     "output_type": "display_data"
    }
   ],
   "source": [
    "graph = data1.head(50)\n",
    "graph.plot(kind='bar')"
   ]
  },
  {
   "cell_type": "code",
   "execution_count": 21,
   "id": "158800a6",
   "metadata": {},
   "outputs": [
    {
     "data": {
      "text/plain": [
       "<matplotlib.legend.Legend at 0x23dbc8189d0>"
      ]
     },
     "execution_count": 21,
     "metadata": {},
     "output_type": "execute_result"
    },
    {
     "data": {
      "image/png": "[encoded data removed]",
      "text/plain": [
       "<Figure size 1152x576 with 1 Axes>"
      ]
     },
     "metadata": {
      "needs_background": "light"
     },
     "output_type": "display_data"
    }
   ],
   "source": [
    "predictions = Model.predict(X_test)\n",
    "#predictions = scaler.inverse_transform(predicted)\n",
    "#y_test_scaled = scaler.inverse_transform(y_test.reshape(-1, 1))\n",
    "\n",
    "fig, ax = plt.subplots(figsize=(16,8))\n",
    "ax.set_facecolor('#000041')\n",
    "ax.plot(y_test, color='red', label='Original price')\n",
    "plt.plot(predicted, color='cyan', label='Predicted price')\n",
    "plt.legend()"
   ]
  }
 ],
 "metadata": {
  "kernelspec": {
   "display_name": "Python 3",
   "language": "python",
   "name": "python3"
  },
  "language_info": {
   "codemirror_mode": {
    "name": "ipython",
    "version": 3
   },
   "file_extension": ".py",
   "mimetype": "text/x-python",
   "name": "python",
   "nbconvert_exporter": "python",
   "pygments_lexer": "ipython3",
   "version": "3.8.8"
  }
 },
 "nbformat": 4,
 "nbformat_minor": 5
}
